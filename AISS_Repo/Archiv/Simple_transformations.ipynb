{
 "cells": [
  {
   "cell_type": "code",
   "execution_count": 24,
   "id": "67514414-65d8-462a-89db-f7d7622e0c63",
   "metadata": {},
   "outputs": [],
   "source": [
    "import os"
   ]
  },
  {
   "cell_type": "code",
   "execution_count": 25,
   "id": "fde7f1bb-e435-47bd-bd83-3295657a6db2",
   "metadata": {},
   "outputs": [],
   "source": [
    "import random\n",
    "\n",
    "import cv2\n",
    "from matplotlib import pyplot as plt\n",
    "import albumentations as A"
   ]
  },
  {
   "cell_type": "code",
   "execution_count": 26,
   "id": "c19ddfb1-5226-445c-a59b-63693161a416",
   "metadata": {},
   "outputs": [
    {
     "name": "stdout",
     "output_type": "stream",
     "text": [
      "{'0': 'Mensa', '1': 'AKK', '2': 'Audimax', '3': 'Neue Bib', '4': 'Alte Bib', '5': 'Studierendenwerk', '6': 'Lernzentrum', '7': 'Mathebau', '8': 'Harber-Bosch-Reaktor', '9': 'Statue am Ehrenhof', '10': 'Heinrich-Hertz-Denkmal', '11': 'Kolben', '12': 'Wärmeflasche', '13': 'Gründerschmiede'}\n"
     ]
    }
   ],
   "source": [
    "classes_txt = open(\"C:/Users/bench/PycharmProjects/AISS_CV/classes.txt\", \"r\")\n",
    "lines = classes_txt.read().splitlines()\n",
    "labels_dict = {}\n",
    "\n",
    "\n",
    "i = 0\n",
    "for label in lines : \n",
    "    labels_dict[str(i)] = label\n",
    "    i += 1\n",
    "    \n",
    "print(labels_dict)    \n"
   ]
  },
  {
   "cell_type": "code",
   "execution_count": 27,
   "id": "e91acc6c-b693-46ac-8898-799812d6a963",
   "metadata": {},
   "outputs": [
    {
     "name": "stdout",
     "output_type": "stream",
     "text": [
      "[0.482143, 0.323909, 0.247024, 0.202712]\n"
     ]
    }
   ],
   "source": [
    "mypath = \"C:/Users/bench/PycharmProjects/AISS_CV/Training Dataset/\"\n",
    "mydict = {}\n",
    "def read_txt_yolo():\n",
    "    txt_list = []\n",
    "    for file in os.listdir(mypath):\n",
    "        if file.endswith(\".txt\"):\n",
    "            txt_list.append(file)\n",
    "\n",
    "    for txt_name in txt_list:\n",
    "        txt_path = mypath + txt_name\n",
    "#       print(\"Input:\" + txt_path)\n",
    "        txt_file = open(txt_path, \"r\")\n",
    "        lines = txt_file.read().splitlines()\n",
    "#       print(lines)\n",
    "        key = txt_name[:-4]\n",
    "        mydict[key] = []\n",
    "        for idx, line in enumerate(lines):\n",
    "            value = line.split()\n",
    "            x = y = w = h = cls = None\n",
    "            cls = value[0]\n",
    "            cls = labels_dict.get(cls)\n",
    "            x = float(value[1])\n",
    "            y = float(value[2])\n",
    "            w = float(value[3])\n",
    "            h = float(value[4])\n",
    "#           print(\"CLASS = \" + str(cls)  + \"|####### X = \" + str(x) + \" |### Y ##### = \" + str(y) + \" |#### W #####| \" + str(w) + \" |####### H ########\" + str(h) )\n",
    "            mydict[key].append([x,y,w,h,cls])\n",
    "\n",
    "    \n",
    "read_txt_yolo()\n",
    "\n",
    "print(mydict.get(\"AKK_ASTA_11\")[0][:4])"
   ]
  },
  {
   "cell_type": "code",
   "execution_count": 28,
   "id": "fda13861-5660-4b81-afb1-d5d4e9b88476",
   "metadata": {},
   "outputs": [],
   "source": [
    "BOX_COLOR = (255, 0, 0) # Red\n",
    "TEXT_COLOR = (255, 255, 255) # White\n",
    "\n",
    "\n",
    "def visualize_bbox(img, bbox, class_name, color=BOX_COLOR, thickness=5):\n",
    "    \"\"\"Visualizes a single bounding box on the image\"\"\"\n",
    "    x, y, w, h = bbox\n",
    "    dh, dw, _ = img.shape\n",
    "    l = int((x - w / 2) * dw)\n",
    "    r = int((x + w / 2) * dw)\n",
    "    t = int((y - h / 2) * dh)\n",
    "    b = int((y + h / 2) * dh)\n",
    "    \n",
    "    if l < 0:\n",
    "        l = 0\n",
    "    if r > dw - 1:\n",
    "        r = dw - 1\n",
    "    if t < 0:\n",
    "        t = 0\n",
    "    if b > dh - 1:\n",
    "        b = dh - 1\n",
    "\n",
    "    cv2.rectangle(img, (l, t), (r, b), (0, 0, 255),  thickness = thickness\n",
    "                 )\n",
    "\n",
    "    fl = \"AKK\"\n",
    "    \n",
    "#     cv2.putText(\n",
    "#         img,\n",
    "#         text=fl,\n",
    "#         org=(x, y - int(0.3 * 4)),\n",
    "#         fontFace=cv2.FONT_HERSHEY_SIMPLEX,\n",
    "#         fontScale=0.35, \n",
    "#         color=TEXT_COLOR, \n",
    "#         lineType=cv2.LINE_AA,\n",
    "#     )\n",
    "    print(\"XMIN Y MIN \" ,  x,y)\n",
    "    return img\n",
    "\n",
    "\n",
    "def visualize(image, bboxes, category_ids, category_id_to_name):\n",
    "    \n",
    "    \n",
    "    img = image.copy()\n",
    "    for bbox, category_id in zip(bboxes, category_ids):\n",
    "        class_name = category_id_to_name[category_id]\n",
    "        img = visualize_bbox(img, bbox, class_name)\n",
    "        \n",
    "    plt.figure(figsize=(12, 12))\n",
    "    plt.axis('off')\n",
    "    plt.imshow(img)\n",
    "#     cv2.imwrite(r\"./result/AKKMODY.jpg\",img)\n"
   ]
  },
  {
   "cell_type": "code",
   "execution_count": 29,
   "id": "3a9f61a0-f55c-4bab-8802-4ecc12862083",
   "metadata": {},
   "outputs": [
    {
     "name": "stdout",
     "output_type": "stream",
     "text": [
      "0\n",
      "1\n"
     ]
    }
   ],
   "source": [
    "j = 0\n",
    "for i in mydict.get('AKK_ASTA_11'):\n",
    "    print(j)\n",
    "    j= j+1\n",
    "  "
   ]
  },
  {
   "cell_type": "code",
   "execution_count": 37,
   "id": "5484fb38-508c-403f-88d0-bce6d6163977",
   "metadata": {},
   "outputs": [
    {
     "name": "stdout",
     "output_type": "stream",
     "text": [
      "{0: 'Mensa', 1: 'AKK', 2: 'Audimax', 3: 'Neue Bib', 4: 'Alte Bib', 5: 'Studierendenwerk', 6: 'Lernzentrum', 7: 'Mathebau', 8: 'Harber-Bosch-Reaktor', 9: 'Statue am Ehrenhof', 10: 'Heinrich-Hertz-Denkmal', 11: 'Kolben', 12: 'Wärmeflasche', 13: 'Gründerschmiede'}\n"
     ]
    }
   ],
   "source": [
    "classes_txt = open(\"C:/Users/bench/PycharmProjects/AISS_CV/classes.txt\", \"r\")\n",
    "lines = classes_txt.read().splitlines()\n",
    "category_id_to_name = {}\n",
    "\n",
    "\n",
    "i = 0\n",
    "for label in lines : \n",
    "    category_id_to_name[(i)] = label\n",
    "    i += 1\n",
    "    \n",
    "print(category_id_to_name) "
   ]
  },
  {
   "cell_type": "code",
   "execution_count": 38,
   "id": "ba09b8b2-6f6f-4eb2-8685-6a48ed2d99d1",
   "metadata": {},
   "outputs": [],
   "source": [
    "transform = A.Compose([\n",
    "    A.RandomBrightnessContrast(p=0.7),\n",
    "    A.Blur(blur_limit=7, always_apply=False, p=0.5),\n",
    "], bbox_params=A.BboxParams(format='yolo',label_fields=[\"category_ids\"]))"
   ]
  },
  {
   "cell_type": "code",
   "execution_count": 60,
   "id": "0efea17b-266e-4f6e-b616-8fe7d08119fc",
   "metadata": {},
   "outputs": [
    {
     "name": "stdout",
     "output_type": "stream",
     "text": [
      "C:/Users/bench/PycharmProjects/AISS_CV/Training Dataset/AKK_ASTA_1.jpg\n",
      "[]\n",
      "[]\n"
     ]
    },
    {
     "ename": "TypeError",
     "evalue": "'int' object is not iterable",
     "output_type": "error",
     "traceback": [
      "\u001b[1;31m---------------------------------------------------------------------------\u001b[0m",
      "\u001b[1;31mTypeError\u001b[0m                                 Traceback (most recent call last)",
      "\u001b[1;32m<ipython-input-60-5141e1ac7a97>\u001b[0m in \u001b[0;36m<module>\u001b[1;34m\u001b[0m\n\u001b[0;32m     10\u001b[0m             \u001b[0mtransformed\u001b[0m \u001b[1;33m=\u001b[0m \u001b[0mtransform\u001b[0m\u001b[1;33m(\u001b[0m\u001b[0mimage\u001b[0m\u001b[1;33m=\u001b[0m\u001b[0mimage\u001b[0m\u001b[1;33m,\u001b[0m \u001b[0mbboxes\u001b[0m\u001b[1;33m=\u001b[0m\u001b[0mbboxes\u001b[0m\u001b[1;33m,\u001b[0m \u001b[0mcategory_ids\u001b[0m\u001b[1;33m=\u001b[0m\u001b[0mcategory_ids\u001b[0m\u001b[1;33m)\u001b[0m\u001b[1;33m\u001b[0m\u001b[1;33m\u001b[0m\u001b[0m\n\u001b[0;32m     11\u001b[0m             \u001b[0mprint\u001b[0m\u001b[1;33m(\u001b[0m\u001b[0mtransformed\u001b[0m\u001b[1;33m[\u001b[0m\u001b[1;34m'bboxes'\u001b[0m\u001b[1;33m]\u001b[0m\u001b[1;33m)\u001b[0m\u001b[1;33m\u001b[0m\u001b[1;33m\u001b[0m\u001b[0m\n\u001b[1;32m---> 12\u001b[1;33m             \u001b[0mvisualize\u001b[0m\u001b[1;33m(\u001b[0m\u001b[0mtransformed\u001b[0m\u001b[1;33m[\u001b[0m\u001b[1;34m'image'\u001b[0m\u001b[1;33m]\u001b[0m\u001b[1;33m,\u001b[0m\u001b[0mtransformed\u001b[0m\u001b[1;33m[\u001b[0m\u001b[1;34m'bboxes'\u001b[0m\u001b[1;33m]\u001b[0m\u001b[1;33m[\u001b[0m\u001b[1;36m0\u001b[0m\u001b[1;33m:\u001b[0m\u001b[1;33m-\u001b[0m\u001b[1;36m1\u001b[0m\u001b[1;33m]\u001b[0m\u001b[1;33m,\u001b[0m\u001b[0mtransformed\u001b[0m\u001b[1;33m[\u001b[0m\u001b[1;34m'category_ids'\u001b[0m\u001b[1;33m]\u001b[0m\u001b[1;33m,\u001b[0m\u001b[0mcategory_id_to_name\u001b[0m\u001b[1;33m)\u001b[0m\u001b[1;33m\u001b[0m\u001b[1;33m\u001b[0m\u001b[0m\n\u001b[0m\u001b[0;32m     13\u001b[0m             \u001b[0mstr1\u001b[0m \u001b[1;33m=\u001b[0m \u001b[1;34m\"\"\u001b[0m\u001b[1;33m.\u001b[0m\u001b[0mjoin\u001b[0m\u001b[1;33m(\u001b[0m\u001b[0mstr\u001b[0m\u001b[1;33m(\u001b[0m\u001b[0me\u001b[0m\u001b[1;33m)\u001b[0m \u001b[1;32mfor\u001b[0m \u001b[0me\u001b[0m \u001b[1;32min\u001b[0m \u001b[0mtransformed\u001b[0m\u001b[1;33m[\u001b[0m\u001b[1;34m'bboxes'\u001b[0m\u001b[1;33m]\u001b[0m\u001b[1;33m)\u001b[0m\u001b[1;33m\u001b[0m\u001b[1;33m\u001b[0m\u001b[0m\n\u001b[0;32m     14\u001b[0m             \u001b[0mcv2\u001b[0m\u001b[1;33m.\u001b[0m\u001b[0mimwrite\u001b[0m\u001b[1;33m(\u001b[0m\u001b[1;34m\"./results/\"\u001b[0m\u001b[1;33m+\u001b[0m \u001b[1;34m\"simply_modified_\"\u001b[0m\u001b[1;33m+\u001b[0m\u001b[0mimg_name\u001b[0m \u001b[1;33m+\u001b[0m \u001b[1;34m\".jpg\"\u001b[0m\u001b[1;33m,\u001b[0m \u001b[0mtransformed\u001b[0m\u001b[1;33m[\u001b[0m\u001b[1;34m'image'\u001b[0m\u001b[1;33m]\u001b[0m\u001b[1;33m,\u001b[0m \u001b[1;33m[\u001b[0m\u001b[0mint\u001b[0m\u001b[1;33m(\u001b[0m\u001b[0mcv2\u001b[0m\u001b[1;33m.\u001b[0m\u001b[0mIMWRITE_JPEG_QUALITY\u001b[0m\u001b[1;33m)\u001b[0m\u001b[1;33m,\u001b[0m \u001b[1;36m100\u001b[0m\u001b[1;33m]\u001b[0m\u001b[1;33m)\u001b[0m\u001b[1;33m\u001b[0m\u001b[1;33m\u001b[0m\u001b[0m\n",
      "\u001b[1;32m<ipython-input-28-0147a748954f>\u001b[0m in \u001b[0;36mvisualize\u001b[1;34m(image, bboxes, category_ids, category_id_to_name)\u001b[0m\n\u001b[0;32m     43\u001b[0m \u001b[1;33m\u001b[0m\u001b[0m\n\u001b[0;32m     44\u001b[0m     \u001b[0mimg\u001b[0m \u001b[1;33m=\u001b[0m \u001b[0mimage\u001b[0m\u001b[1;33m.\u001b[0m\u001b[0mcopy\u001b[0m\u001b[1;33m(\u001b[0m\u001b[1;33m)\u001b[0m\u001b[1;33m\u001b[0m\u001b[1;33m\u001b[0m\u001b[0m\n\u001b[1;32m---> 45\u001b[1;33m     \u001b[1;32mfor\u001b[0m \u001b[0mbbox\u001b[0m\u001b[1;33m,\u001b[0m \u001b[0mcategory_id\u001b[0m \u001b[1;32min\u001b[0m \u001b[0mzip\u001b[0m\u001b[1;33m(\u001b[0m\u001b[0mbboxes\u001b[0m\u001b[1;33m,\u001b[0m \u001b[0mcategory_ids\u001b[0m\u001b[1;33m)\u001b[0m\u001b[1;33m:\u001b[0m\u001b[1;33m\u001b[0m\u001b[1;33m\u001b[0m\u001b[0m\n\u001b[0m\u001b[0;32m     46\u001b[0m         \u001b[0mclass_name\u001b[0m \u001b[1;33m=\u001b[0m \u001b[0mcategory_id_to_name\u001b[0m\u001b[1;33m[\u001b[0m\u001b[0mcategory_id\u001b[0m\u001b[1;33m]\u001b[0m\u001b[1;33m\u001b[0m\u001b[1;33m\u001b[0m\u001b[0m\n\u001b[0;32m     47\u001b[0m         \u001b[0mimg\u001b[0m \u001b[1;33m=\u001b[0m \u001b[0mvisualize_bbox\u001b[0m\u001b[1;33m(\u001b[0m\u001b[0mimg\u001b[0m\u001b[1;33m,\u001b[0m \u001b[0mbbox\u001b[0m\u001b[1;33m,\u001b[0m \u001b[0mclass_name\u001b[0m\u001b[1;33m)\u001b[0m\u001b[1;33m\u001b[0m\u001b[1;33m\u001b[0m\u001b[0m\n",
      "\u001b[1;31mTypeError\u001b[0m: 'int' object is not iterable"
     ]
    }
   ],
   "source": [
    "for file in os.listdir(mypath):\n",
    "        if file.endswith(\".jpg\"):\n",
    "            category_ids = 1\n",
    "            print(mypath+file)\n",
    "            random.seed(7)\n",
    "            image = cv2.imread(mypath + file)\n",
    "            img_name = file.rstrip(\".jpg\")\n",
    "            bboxes = [mydict.get(str(img_name))][0:-1]\n",
    "            print(bboxes)\n",
    "            transformed = transform(image=image, bboxes=bboxes, category_ids=category_ids)\n",
    "            print(transformed['bboxes'])\n",
    "            visualize(transformed['image'],transformed['bboxes'][0:-1],transformed['category_ids'],category_id_to_name)\n",
    "            str1 = \"\".join(str(e) for e in transformed['bboxes'])\n",
    "            cv2.imwrite(\"./results/\"+ \"simply_modified_\"+img_name + \".jpg\", transformed['image'], [int(cv2.IMWRITE_JPEG_QUALITY), 100])\n",
    "            txt_file =open(\"./results/\" + \"simply_modified_\"+img_name + \".txt\", 'w')\n",
    "            txt_file.write(str1)\n",
    "            txt_file.close()\n",
    "            print(\"saved new \"+ img_name) "
   ]
  },
  {
   "cell_type": "code",
   "execution_count": 53,
   "id": "25d3a2d9-7220-4098-a22e-456ef645f4be",
   "metadata": {},
   "outputs": [],
   "source": [
    "txt_file =open(\"../data/obj/\" + \"imges_txt_train.txt\", 'w')\n",
    "for file in os.listdir(mypath):\n",
    "    if file.endswith(\".jpg\"):\n",
    "        img_name = file.rstrip(\".jpg\")\n",
    "        str1 = \"\"+ \"data/obj/\" + img_name + \".jpg\"\n",
    "        txt_file.write(str1+ '\\n')\n",
    "        \n",
    "txt_file.close()            "
   ]
  },
  {
   "cell_type": "code",
   "execution_count": null,
   "id": "3eb10466-3b67-419d-95da-c5190feff73f",
   "metadata": {},
   "outputs": [],
   "source": []
  }
 ],
 "metadata": {
  "kernelspec": {
   "display_name": "Python 3",
   "language": "python",
   "name": "python3"
  },
  "language_info": {
   "codemirror_mode": {
    "name": "ipython",
    "version": 3
   },
   "file_extension": ".py",
   "mimetype": "text/x-python",
   "name": "python",
   "nbconvert_exporter": "python",
   "pygments_lexer": "ipython3",
   "version": "3.8.10"
  }
 },
 "nbformat": 4,
 "nbformat_minor": 5
}
