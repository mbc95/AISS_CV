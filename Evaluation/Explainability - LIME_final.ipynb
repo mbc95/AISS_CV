{
 "cells": [
  {
   "cell_type": "markdown",
   "metadata": {},
   "source": [
    "# Explainability using LIME"
   ]
  },
  {
   "cell_type": "markdown",
   "metadata": {},
   "source": [
    "## Import Moduls and set Paths"
   ]
  },
  {
   "cell_type": "code",
   "execution_count": 1,
   "metadata": {},
   "outputs": [],
   "source": [
    "import cv2\n",
    "import numpy as np\n",
    "import matplotlib.pyplot as plt\n",
    "import pandas as pd\n",
    "import random\n",
    "import os\n",
    "from lime import lime_image\n",
    "import lime\n",
    "random.seed(11)"
   ]
  },
  {
   "cell_type": "markdown",
   "metadata": {},
   "source": [
    "## Set Paths"
   ]
  },
  {
   "cell_type": "code",
   "execution_count": 2,
   "metadata": {},
   "outputs": [],
   "source": [
    "#Insert Root\n",
    "Root = ..."
   ]
  },
  {
   "cell_type": "code",
   "execution_count": 3,
   "metadata": {},
   "outputs": [],
   "source": [
    "path_weights =\".\\\\yolo_final.weights\"\n",
    "path_cfg = \".\\\\our-yolov4-tiny-custom.cfg\"\n",
    "path_class_txt = Root+ \"\\\\preprocessing\\data\\classes.txt\"\n",
    "img_PATH = Root +\"\\\\preprocessing\\data\""
   ]
  },
  {
   "cell_type": "code",
   "execution_count": 4,
   "metadata": {},
   "outputs": [],
   "source": [
    "#Set Name of Folder to save explained images in\n",
    "PATH_Explained = \".\\\\Explainability_LIME\\Run_10072021\"\n",
    "if not os.path.exists(PATH_Explained):\n",
    "    os.makedirs(PATH_Explained)"
   ]
  },
  {
   "cell_type": "markdown",
   "metadata": {},
   "source": [
    "## Deal with naming inconsistencies"
   ]
  },
  {
   "cell_type": "code",
   "execution_count": 5,
   "metadata": {
    "scrolled": true
   },
   "outputs": [],
   "source": [
    "#match class names to picture names\n",
    "classes = []\n",
    "with open(path_class_txt, 'r') as f:\n",
    "    classes = f.read().splitlines()\n",
    "classes = ['Haber_Bosch' if class_ == 'Harber-Bosch-Reaktor' else class_ for class_ in classes]\n",
    "classes = ['Kopf' if class_ == 'Heinrich-Hertz-Denkmal' else class_ for class_ in classes]\n",
    "classes = ['Soldat' if class_ == 'Statue am Ehrenhof' else class_ for class_ in classes]\n",
    "classes = ['Waermflasche' if class_ == 'Waermeflasche' else class_ for class_ in classes]\n",
    "classes = ['Neue_Bib' if class_ == 'Neue Bib' else class_ for class_ in classes]\n",
    "classes = ['Alte_Bib' if class_ == 'Alte Bib' else class_ for class_ in classes]\n",
    "classes = ['AKK_ASTA' if class_ == 'AKK' else class_ for class_ in classes]"
   ]
  },
  {
   "cell_type": "markdown",
   "metadata": {},
   "source": [
    "## Select Files to Explain"
   ]
  },
  {
   "cell_type": "code",
   "execution_count": 6,
   "metadata": {
    "scrolled": true
   },
   "outputs": [],
   "source": [
    "#extract pic based on name and label based on class\n",
    "labels = []\n",
    "file_names = []\n",
    "import os\n",
    "for file in os.listdir(img_PATH):\n",
    "    if file.endswith(\".jpg\") and not \"transformed\" in file:\n",
    "        for class_ in classes:\n",
    "            if class_ in file:\n",
    "                file_names.append(file)\n",
    "                labels.append(classes.index(class_))"
   ]
  },
  {
   "cell_type": "code",
   "execution_count": 7,
   "metadata": {
    "scrolled": true
   },
   "outputs": [
    {
     "name": "stdout",
     "output_type": "stream",
     "text": [
      "number of files: 20\n"
     ]
    }
   ],
   "source": [
    "#select random stratified set of pictures to perform explainablity on\n",
    "from sklearn.model_selection import train_test_split\n",
    "files, _ , _,_ = train_test_split(file_names, labels, test_size=0.98, random_state=41, stratify=labels)\n",
    "print(\"number of files: \"+ str(len(files)))"
   ]
  },
  {
   "cell_type": "code",
   "execution_count": 8,
   "metadata": {},
   "outputs": [],
   "source": [
    "#load custom YoloV4 with weights and cfg file\n",
    "net = cv2.dnn.readNet(path_weights,path_cfg)"
   ]
  },
  {
   "cell_type": "markdown",
   "metadata": {},
   "source": [
    "## Function to approximate probability of most probable class"
   ]
  },
  {
   "cell_type": "markdown",
   "metadata": {},
   "source": [
    "tries to estimate/simulate the predict_probae function of skit_learner. <br>\n",
    "For every image in input X it will return the array of the output/detection containing the object with the highest confidence."
   ]
  },
  {
   "cell_type": "code",
   "execution_count": 9,
   "metadata": {},
   "outputs": [],
   "source": [
    "# function to get return detection score for most probably detection/detection with higest score\n",
    "def f(X):\n",
    "    preds = []\n",
    "    for i in range(0,X.shape[0]):\n",
    "        #print(i)\n",
    "        score = []\n",
    "        score_max = []\n",
    "#         cv2.imshow('',X[i])\n",
    "#         cv2.waitKey(0)\n",
    "#         cv2.destroyAllWindows()\n",
    "        blob = cv2.dnn.blobFromImage(X[i], 1/255, (416,416), (0,0,0), swapRB=True, crop = False)\n",
    "        net.setInput(blob)\n",
    "        output_layers_names = net.getUnconnectedOutLayersNames()\n",
    "        layerOutputs = net.forward(output_layers_names)\n",
    "        for output in layerOutputs:\n",
    "            for detection in output:\n",
    "                score_ = detection[5:] #removing first four entries since they correspond to postion of bbox\n",
    "                score.append([score_])\n",
    "                score_max.append(np.max(score_))\n",
    "        if i==0:\n",
    "            preds = np.array((score[np.argmax(score_max)])).reshape(14,1)\n",
    "        else:\n",
    "            preds = np.append(preds,np.array(score[np.argmax(score_max)]).reshape(14,1))\n",
    "            \n",
    "    return preds.reshape(X.shape[0],14)"
   ]
  },
  {
   "cell_type": "markdown",
   "metadata": {},
   "source": [
    "## Explanaition Routine"
   ]
  },
  {
   "cell_type": "markdown",
   "metadata": {},
   "source": [
    "The routine will go through the selected files. <br>\n",
    "And for each file it will firstly load the image and save it. <br>\n",
    "Then plot the bounding boxes of the detected objects and save it. <br>\n",
    "Afterwards, it will use the LIME framework to explain the object with the highest confidence score over the entire image. <br>\n",
    "Then it will save the image with the most important features - once with and once without the bounding box of the most confident object. <br>\n",
    "Last, it will crop the bounding box of the most confident image and run it thourgh LIME again and save the image with the most important features. <br>\n",
    "\n",
    "\n"
   ]
  },
  {
   "cell_type": "code",
   "execution_count": null,
   "metadata": {
    "scrolled": true
   },
   "outputs": [
    {
     "name": "stdout",
     "output_type": "stream",
     "text": [
      "0.0\n"
     ]
    },
    {
     "data": {
      "application/vnd.jupyter.widget-view+json": {
       "model_id": "17890df8cad64696a114c73c9361406a",
       "version_major": 2,
       "version_minor": 0
      },
      "text/plain": [
       "HBox(children=(HTML(value=''), FloatProgress(value=0.0, max=1000.0), HTML(value='')))"
      ]
     },
     "metadata": {},
     "output_type": "display_data"
    },
    {
     "name": "stdout",
     "output_type": "stream",
     "text": [
      "\n",
      "17 90 370 181\n"
     ]
    },
    {
     "data": {
      "application/vnd.jupyter.widget-view+json": {
       "model_id": "9139704cd35c425a976602328b5c02b3",
       "version_major": 2,
       "version_minor": 0
      },
      "text/plain": [
       "HBox(children=(HTML(value=''), FloatProgress(value=0.0, max=1000.0), HTML(value='')))"
      ]
     },
     "metadata": {},
     "output_type": "display_data"
    },
    {
     "name": "stdout",
     "output_type": "stream",
     "text": [
      "\n",
      "0.0\n"
     ]
    },
    {
     "data": {
      "application/vnd.jupyter.widget-view+json": {
       "model_id": "5d95926e5cec4fb8b6ca1dcac47d399c",
       "version_major": 2,
       "version_minor": 0
      },
      "text/plain": [
       "HBox(children=(HTML(value=''), FloatProgress(value=0.0, max=1000.0), HTML(value='')))"
      ]
     },
     "metadata": {},
     "output_type": "display_data"
    },
    {
     "name": "stdout",
     "output_type": "stream",
     "text": [
      "\n",
      "133 13 47 270\n"
     ]
    },
    {
     "data": {
      "application/vnd.jupyter.widget-view+json": {
       "model_id": "80a61e1815134d1593335400a16b93b7",
       "version_major": 2,
       "version_minor": 0
      },
      "text/plain": [
       "HBox(children=(HTML(value=''), FloatProgress(value=0.0, max=1000.0), HTML(value='')))"
      ]
     },
     "metadata": {},
     "output_type": "display_data"
    },
    {
     "name": "stdout",
     "output_type": "stream",
     "text": [
      "\n",
      "0.0\n"
     ]
    },
    {
     "data": {
      "application/vnd.jupyter.widget-view+json": {
       "model_id": "cdea78a409be49c596eaaa5bb6269f22",
       "version_major": 2,
       "version_minor": 0
      },
      "text/plain": [
       "HBox(children=(HTML(value=''), FloatProgress(value=0.0, max=1000.0), HTML(value='')))"
      ]
     },
     "metadata": {},
     "output_type": "display_data"
    },
    {
     "name": "stdout",
     "output_type": "stream",
     "text": [
      "\n",
      "193 70 92 263\n"
     ]
    },
    {
     "data": {
      "application/vnd.jupyter.widget-view+json": {
       "model_id": "bc4dd442c88f415eb603228215370372",
       "version_major": 2,
       "version_minor": 0
      },
      "text/plain": [
       "HBox(children=(HTML(value=''), FloatProgress(value=0.0, max=1000.0), HTML(value='')))"
      ]
     },
     "metadata": {},
     "output_type": "display_data"
    },
    {
     "name": "stdout",
     "output_type": "stream",
     "text": [
      "\n",
      "136 222 18 54\n"
     ]
    },
    {
     "data": {
      "application/vnd.jupyter.widget-view+json": {
       "model_id": "fe70e7bdeb7f4bd1b5d58385250ead15",
       "version_major": 2,
       "version_minor": 0
      },
      "text/plain": [
       "HBox(children=(HTML(value=''), FloatProgress(value=0.0, max=1000.0), HTML(value='')))"
      ]
     },
     "metadata": {},
     "output_type": "display_data"
    },
    {
     "name": "stdout",
     "output_type": "stream",
     "text": [
      "\n",
      "0.0\n"
     ]
    },
    {
     "data": {
      "application/vnd.jupyter.widget-view+json": {
       "model_id": "edca708770614bc9a0a720fe1da5bff4",
       "version_major": 2,
       "version_minor": 0
      },
      "text/plain": [
       "HBox(children=(HTML(value=''), FloatProgress(value=0.0, max=1000.0), HTML(value='')))"
      ]
     },
     "metadata": {},
     "output_type": "display_data"
    },
    {
     "name": "stdout",
     "output_type": "stream",
     "text": [
      "\n",
      "127 0 284 363\n"
     ]
    },
    {
     "data": {
      "application/vnd.jupyter.widget-view+json": {
       "model_id": "5d4aa97be8ff41b5af314e7786360cf3",
       "version_major": 2,
       "version_minor": 0
      },
      "text/plain": [
       "HBox(children=(HTML(value=''), FloatProgress(value=0.0, max=1000.0), HTML(value='')))"
      ]
     },
     "metadata": {},
     "output_type": "display_data"
    },
    {
     "name": "stdout",
     "output_type": "stream",
     "text": [
      "\n",
      "0.0\n"
     ]
    },
    {
     "data": {
      "application/vnd.jupyter.widget-view+json": {
       "model_id": "f53f9eb375094f91af0cbf4bb978c307",
       "version_major": 2,
       "version_minor": 0
      },
      "text/plain": [
       "HBox(children=(HTML(value=''), FloatProgress(value=0.0, max=1000.0), HTML(value='')))"
      ]
     },
     "metadata": {},
     "output_type": "display_data"
    },
    {
     "name": "stdout",
     "output_type": "stream",
     "text": [
      "\n",
      "213 2 188 329\n"
     ]
    },
    {
     "data": {
      "application/vnd.jupyter.widget-view+json": {
       "model_id": "a95874fa4deb46709b55386fcb3edb7d",
       "version_major": 2,
       "version_minor": 0
      },
      "text/plain": [
       "HBox(children=(HTML(value=''), FloatProgress(value=0.0, max=1000.0), HTML(value='')))"
      ]
     },
     "metadata": {},
     "output_type": "display_data"
    },
    {
     "name": "stdout",
     "output_type": "stream",
     "text": [
      "\n",
      "0.0\n",
      "0.0\n"
     ]
    },
    {
     "data": {
      "application/vnd.jupyter.widget-view+json": {
       "model_id": "eabfb71cd3394295a864795b9ce4b4a8",
       "version_major": 2,
       "version_minor": 0
      },
      "text/plain": [
       "HBox(children=(HTML(value=''), FloatProgress(value=0.0, max=1000.0), HTML(value='')))"
      ]
     },
     "metadata": {},
     "output_type": "display_data"
    },
    {
     "name": "stdout",
     "output_type": "stream",
     "text": [
      "\n",
      "130 56 225 359\n"
     ]
    },
    {
     "data": {
      "application/vnd.jupyter.widget-view+json": {
       "model_id": "8f664ce32f9143818dd4cf45dcbe3d86",
       "version_major": 2,
       "version_minor": 0
      },
      "text/plain": [
       "HBox(children=(HTML(value=''), FloatProgress(value=0.0, max=1000.0), HTML(value='')))"
      ]
     },
     "metadata": {},
     "output_type": "display_data"
    },
    {
     "name": "stdout",
     "output_type": "stream",
     "text": [
      "\n",
      "324 173 90 241\n"
     ]
    },
    {
     "data": {
      "application/vnd.jupyter.widget-view+json": {
       "model_id": "2206b5d990a0469a9c1d0fa1f8072c81",
       "version_major": 2,
       "version_minor": 0
      },
      "text/plain": [
       "HBox(children=(HTML(value=''), FloatProgress(value=0.0, max=1000.0), HTML(value='')))"
      ]
     },
     "metadata": {},
     "output_type": "display_data"
    }
   ],
   "source": [
    "from lime import lime_image\n",
    "from skimage.segmentation import mark_boundaries\n",
    "explainer = lime_image.LimeImageExplainer(random_state = 42)\n",
    "#go through all selected files\n",
    "for file in files:\n",
    "    a = 1\n",
    "    ##read image and save original\n",
    "    img = cv2.imread(img_PATH+\"\\\\\"+file)\n",
    "    img = cv2.resize(img, (416,416))\n",
    "    ## read image to for bbox\n",
    "    img_ = cv2.imread(img_PATH+\"\\\\\"+file)\n",
    "    img_ = cv2.resize(img, (416,416))\n",
    "    ### RUN IMAGE Through YOLO\n",
    "    height, width, _ = img.shape\n",
    "    blob = cv2.dnn.blobFromImage(img, 1/255, (416,416), (0,0,0), swapRB=True, crop = False)\n",
    "    net.setInput(blob)\n",
    "    output_layers_names = net.getUnconnectedOutLayersNames()\n",
    "    layerOutputs = net.forward(output_layers_names)\n",
    "    boxes = []\n",
    "    confidence = []\n",
    "    class_ids = []\n",
    "    for output in layerOutputs:\n",
    "        for detection in output:\n",
    "            score = detection[5:] #removing first four entries since they correspond to postion of bbox\n",
    "            class_id = np.argmax(score)\n",
    "            confidence_ = score[class_id]\n",
    "            if confidence_ > 0.65:\n",
    "                center_x = int(detection[0]*width)\n",
    "                center_y = int(detection[1]*height)\n",
    "                w = int(detection[2]*width)\n",
    "                h = int(detection[3]*height)\n",
    "\n",
    "                x = int(center_x -w/2)\n",
    "                y = int(center_y -h/2)\n",
    "\n",
    "                boxes.append([x,y,w,h])\n",
    "                confidence.append(float(confidence_))\n",
    "                class_ids.append(class_id)\n",
    "    \n",
    "    print(confidence_)        \n",
    "    indexes = cv2.dnn.NMSBoxes(boxes, confidence, 0.65, 0.65)\n",
    "    \n",
    "    if len(indexes)>0:\n",
    "        # create folders to save explanations for each image\n",
    "        file_name = file.strip(\".jpg\")\n",
    "        path = PATH_Explained+\"\\\\\"+file_name\n",
    "        if not os.path.exists(path):\n",
    "            os.makedirs(path)\n",
    "        #save original\n",
    "        cv2.imwrite(path+\"\\\\\"+file_name+\"_original.jpg\", img)\n",
    "        font = cv2.FONT_HERSHEY_PLAIN\n",
    "        colors = np.random.uniform(0,255, size = (len(boxes),3))\n",
    "\n",
    "        ### FIRST\n",
    "        #PLOT BoundingBoxes and Save It\n",
    "        for i in indexes.flatten():\n",
    "            x,y,w,h = boxes[i]\n",
    "\n",
    "            label = str(classes[class_ids[i]])\n",
    "            confi = str(round(confidence[i],2))\n",
    "            color = colors[i]\n",
    "\n",
    "            cv2.rectangle(img_, (x,y), (x+w, y+h), color, 1)\n",
    "            cv2.putText(img_, label + \" \" + confi, (x, y+20), font,2,(0,0,0),1)\n",
    "\n",
    "        cv2.imwrite(path+\"\\\\\"+file_name+\"_bbox.jpg\", img_)\n",
    "\n",
    "        ###SECOND\n",
    "        # RUN Explanation for entire image and most probable class and put bbox \n",
    "        explanation = explainer.explain_instance(img, f, hide_color=0, num_samples= 1000,num_features=3, labels = classes, random_seed =42)\n",
    "        temp, mask = explanation.get_image_and_mask(explanation.top_labels[0], positive_only=False, num_features=3, hide_rest=False)\n",
    "        cv2.imwrite(path+\"\\\\\"+file_name+\"_explained.jpg\", temp)\n",
    "        #PLOT BoundingBoxes and Save It\n",
    "        ind = np.argmax(confidence)\n",
    "        label = str(classes[class_ids[ind]])\n",
    "        x,y,w,h = boxes[ind]\n",
    "        confi = str(round(confidence[ind],2))\n",
    "        color = colors[ind]\n",
    "        cv2.rectangle(temp, (x,y), (x+w, y+h), color, 1)\n",
    "        cv2.putText(temp, label + \" \" + confi, (x, y+20), font,2,(0,0,0),1)\n",
    "        cv2.imwrite(path+\"\\\\\"+file_name+\"_bbox_explained.jpg\", temp)\n",
    "\n",
    "        ###Crop each bbox and run explanaition\n",
    "        for i in indexes.flatten():\n",
    "            x,y,w,h = boxes[i]\n",
    "            if x<0:\n",
    "                w = w + x\n",
    "                x=0\n",
    "            if y<0:\n",
    "                h = h + y\n",
    "                y=0\n",
    "            print(x,y,w,h)\n",
    "            img_copy = img[y:y+h,x:x+w]\n",
    "    #         cv2.imshow('',img)\n",
    "    #         cv2.waitKey(0)\n",
    "    #         cv2.destroyAllWindows()\n",
    "            explanation = explainer.explain_instance(img_copy, f, hide_color=0, num_samples= 1000,num_features=3, labels = classes, random_seed =42)\n",
    "            temp, mask = explanation.get_image_and_mask(explanation.top_labels[0], positive_only=False, num_features=3, hide_rest=False)\n",
    "            img_1 = mark_boundaries(temp, mask)\n",
    "#             if os.path.isfile(name):\n",
    "#                 os.remove(name)   # Opt.: os.system(\"rm \"+strFile)\n",
    "            cv2.imwrite(path+\"\\\\\"+file_name+\"_cropped_explained_\"+str(a)+\".jpg\",img_1*255)\n",
    "            #plt.imsave(name,img_)\n",
    "            a = a+1\n",
    "        "
   ]
  },
  {
   "cell_type": "markdown",
   "metadata": {},
   "source": [
    "## Explain One Image"
   ]
  },
  {
   "cell_type": "code",
   "execution_count": 18,
   "metadata": {},
   "outputs": [],
   "source": [
    "img_PATH_new = Root + \"\\\\preprocessing\\data\""
   ]
  },
  {
   "cell_type": "code",
   "execution_count": 19,
   "metadata": {},
   "outputs": [],
   "source": [
    "img = cv2.imread(img_PATH_new+\"\\\\Alte_Bib_8.jpg\")\n",
    "img = cv2.resize(img, (416,416))\n",
    "cv2.imshow('',img)\n",
    "cv2.waitKey(0)\n",
    "cv2.destroyAllWindows()\n",
    "height, width, _ = img.shape\n",
    "blob = cv2.dnn.blobFromImage(img, 1/255, (416,416), (0,0,0), swapRB=True, crop = False)\n",
    "net.setInput(blob)\n",
    "output_layers_names = net.getUnconnectedOutLayersNames()\n",
    "layerOutputs = net.forward(output_layers_names)"
   ]
  },
  {
   "cell_type": "code",
   "execution_count": 12,
   "metadata": {
    "scrolled": true
   },
   "outputs": [
    {
     "name": "stdout",
     "output_type": "stream",
     "text": [
      "NEW\n",
      "[0.42635283 0.36592656 0.8873651  0.68231434 0.7678565 ]\n",
      "0.76714665\n",
      "2\n",
      "-7 10 369 283\n",
      "NEW\n",
      "[0.49056953 0.35771146 0.9154186  0.72045416 0.714981  ]\n",
      "0.7141219\n",
      "2\n",
      "14 -1 380 299\n"
     ]
    }
   ],
   "source": [
    "boxes = []\n",
    "confidence = []\n",
    "class_ids = []\n",
    "for output in layerOutputs:\n",
    "    for detection in output:\n",
    "        score = detection[5:] #removing first four entries since they correspond to postion of bbox\n",
    "        class_id = np.argmax(score)\n",
    "        confidence_ = score[class_id]\n",
    "        if confidence_ > 0.65:\n",
    "            print(\"NEW\")\n",
    "            print(detection[0:5])\n",
    "            print(confidence_)\n",
    "            print(class_id)\n",
    "            center_x = int(detection[0]*width)\n",
    "            center_y = int(detection[1]*height)\n",
    "            w = int(detection[2]*width)\n",
    "            h = int(detection[3]*height)\n",
    "            \n",
    "            x = int(center_x -w/2)\n",
    "            y = int(center_y -h/2)\n",
    "            print(x,y,w,h)\n",
    "            boxes.append([x,y,w,h])\n",
    "            confidence.append(float(confidence_))\n",
    "            class_ids.append(class_id)"
   ]
  },
  {
   "cell_type": "code",
   "execution_count": null,
   "metadata": {},
   "outputs": [],
   "source": [
    "#Explainer for one Image \n",
    "from lime import lime_image\n",
    "from skimage.segmentation import mark_boundaries\n",
    "explainer = lime_image.LimeImageExplainer(random_state =42)\n",
    "explanation = explainer.explain_instance(img_, f, hide_color=0, num_samples= 1000,num_features=5, labels = classes, random_seed =42)\n",
    "temp, mask = explanation.get_image_and_mask(explanation.top_labels[0], positive_only=False, num_features=8, hide_rest=False)\n",
    "cv2.imshow('',temp)\n",
    "cv2.waitKey(0)\n",
    "cv2.destroyAllWindows()"
   ]
  },
  {
   "cell_type": "markdown",
   "metadata": {},
   "source": [
    "## Plot BBoxes on Image"
   ]
  },
  {
   "cell_type": "code",
   "execution_count": 13,
   "metadata": {},
   "outputs": [],
   "source": [
    "indexes = cv2.dnn.NMSBoxes(boxes, confidence, 0.65, 0.65)\n",
    "font = cv2.FONT_HERSHEY_PLAIN\n",
    "colors = np.random.uniform(0,255, size = (len(boxes),3))"
   ]
  },
  {
   "cell_type": "code",
   "execution_count": 14,
   "metadata": {},
   "outputs": [
    {
     "name": "stdout",
     "output_type": "stream",
     "text": [
      "-7 10 369 283\n"
     ]
    }
   ],
   "source": [
    "for i in indexes.flatten():\n",
    "    x,y,w,h = boxes[i]\n",
    "    print(x,y,w,h)\n",
    "    \n",
    "    label = str(classes[class_ids[i]])\n",
    "    confi = str(round(confidence[i],2))\n",
    "    color = colors[i]\n",
    "    \n",
    "    cv2.rectangle(img, (x,y), (x+w, y+h), color, 1)\n",
    "    cv2.putText(img, label + \" \" + confi, (x, y+20), font,2,(0,0,0),1)"
   ]
  },
  {
   "cell_type": "code",
   "execution_count": 15,
   "metadata": {
    "scrolled": false
   },
   "outputs": [
    {
     "data": {
      "text/plain": [
       "<matplotlib.image.AxesImage at 0x14b94a44d30>"
      ]
     },
     "execution_count": 15,
     "metadata": {},
     "output_type": "execute_result"
    },
    {
     "data": {
      "image/png": "[encoded data removed]",
      "text/plain": [
       "<Figure size 432x288 with 1 Axes>"
      ]
     },
     "metadata": {
      "needs_background": "light"
     },
     "output_type": "display_data"
    }
   ],
   "source": [
    "plt.imshow(cv2.cvtColor(img, cv2.COLOR_BGR2RGB))"
   ]
  },
  {
   "cell_type": "code",
   "execution_count": null,
   "metadata": {},
   "outputs": [],
   "source": []
  }
 ],
 "metadata": {
  "kernelspec": {
   "display_name": "Python 3",
   "language": "python",
   "name": "python3"
  },
  "language_info": {
   "codemirror_mode": {
    "name": "ipython",
    "version": 3
   },
   "file_extension": ".py",
   "mimetype": "text/x-python",
   "name": "python",
   "nbconvert_exporter": "python",
   "pygments_lexer": "ipython3",
   "version": "3.8.5"
  }
 },
 "nbformat": 4,
 "nbformat_minor": 4
}
