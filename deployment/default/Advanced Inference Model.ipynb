{
 "cells": [
  {
   "cell_type": "code",
   "execution_count": null,
   "source": [
    "from Inference import Inference\n",
    "\n",
    "cfg = \"../model/yolo.cfg\"\n",
    "data = \"../model/darknet.data\"\n",
    "weights = \"../model/yolo_final.weights\"\n",
    "video = \"./video_3.mp4\"\n",
    "\n",
    "\n",
    "inf = Inference(video, 0, cfg, data, weights, border=True, thresh=0.65)"
   ],
   "outputs": [],
   "metadata": {}
  }
 ],
 "metadata": {
  "kernelspec": {
   "display_name": "Python 3",
   "language": "python",
   "name": "python3"
  },
  "language_info": {
   "codemirror_mode": {
    "name": "ipython",
    "version": 3
   },
   "file_extension": ".py",
   "mimetype": "text/x-python",
   "name": "python",
   "nbconvert_exporter": "python",
   "pygments_lexer": "ipython3",
   "version": "3.6.9"
  }
 },
 "nbformat": 4,
 "nbformat_minor": 4
}