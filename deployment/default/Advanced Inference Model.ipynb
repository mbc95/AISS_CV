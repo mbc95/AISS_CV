{
 "cells": [
  {
   "cell_type": "code",
   "execution_count": 1,
   "source": [
    "import ipywidgets\n",
    "from IPython.display import display\n",
    "\n",
    "start_button = ipywidgets.Button(\n",
    "    description = 'Start',\n",
    "    disabled=False,\n",
    "    button_style='', # 'success', 'info', 'warning', 'danger' or ''\n",
    "    tooltip='Click me',\n",
    "    icon='check' # (FontAwesome names without the `fa-` prefix)\n",
    ")\n",
    "\n",
    "\n",
    "stop_button = ipywidgets.Button(\n",
    "    description = 'Stop',\n",
    "    disabled=False,\n",
    "    button_style='', # 'success', 'info', 'warning', 'danger' or ''\n",
    "    tooltip='Click me',\n",
    "    icon='stop' # (FontAwesome names without the `fa-` prefix)\n",
    ")\n",
    "\n",
    "\n",
    "\n",
    "image_widget = ipywidgets.Image(format='jpeg')\n",
    "\n",
    "display(start_button)\n",
    "display(stop_button)\n",
    "display(image_widget)"
   ],
   "outputs": [
    {
     "output_type": "display_data",
     "data": {
      "text/plain": [
       "Button(description='Start', icon='check', style=ButtonStyle(), tooltip='Click me')"
      ],
      "application/vnd.jupyter.widget-view+json": {
       "model_id": "e1f0a5e716c64c0c8e6335b05af7bb79",
       "version_major": 2,
       "version_minor": 0
      }
     },
     "metadata": {}
    },
    {
     "output_type": "display_data",
     "data": {
      "text/plain": [
       "Button(description='Stop', icon='stop', style=ButtonStyle(), tooltip='Click me')"
      ],
      "application/vnd.jupyter.widget-view+json": {
       "model_id": "8b94bd4dd466411682a8e2d73e2f654a",
       "version_major": 2,
       "version_minor": 0
      }
     },
     "metadata": {}
    },
    {
     "output_type": "display_data",
     "data": {
      "text/plain": [
       "Image(value=b'', format='jpeg')"
      ],
      "application/vnd.jupyter.widget-view+json": {
       "model_id": "e7619c758761466f90ccc6d85b7c491e",
       "version_major": 2,
       "version_minor": 0
      }
     },
     "metadata": {}
    }
   ],
   "metadata": {}
  },
  {
   "cell_type": "code",
   "execution_count": 2,
   "source": [
    "from Inference import Inference\n",
    "from Video import gstreamer_pipeline\n",
    "from jetcam.utils import bgr8_to_jpeg\n",
    "from pathlib import Path\n",
    "import cv2\n",
    "\n",
    "cfg = Path(\"../model/yolo.cfg\").absolute()\n",
    "data = Path(\"../model/darknet.data\").absolute()\n",
    "weights = Path(\"../model/yolo_final.weights\").absolute()\n",
    "\n",
    "video = \"./20210702_114927.mov\"\n",
    "#cap = cv2.VideoCapture(video)\n",
    "\n",
    "cap = cv2.VideoCapture(gstreamer_pipeline(capture_width =416, capture_height=416, flip_method=0), cv2.CAP_GSTREAMER)\n",
    "if cap.isOpened():\n",
    "    print(\"Cap opened\")\n",
    "    _, image = cap.read()\n",
    "    cap.release()\n",
    "else:\n",
    "    print(\"Unable to open camera\")\n",
    "image_widget.value = bgr8_to_jpeg(image)\n",
    "#cap = cv2.VideoCapture(video)\n",
    "cap = cv2.VideoCapture(gstreamer_pipeline(capture_width =1920, capture_height=1080, flip_method=0), cv2.CAP_GSTREAMER)\n",
    "\n",
    "inf = Inference(cap, image_widget, str(cfg), str(data), str(weights), border=True, thresh=0.65)\n",
    "\n",
    "start_button.on_click(inf.startInference)\n",
    "stop_button.on_click(inf.stopInference)\n",
    "\n"
   ],
   "outputs": [],
   "metadata": {}
  },
  {
   "cell_type": "code",
   "execution_count": 3,
   "source": [
    "cap.isOpened()"
   ],
   "outputs": [
    {
     "output_type": "execute_result",
     "data": {
      "text/plain": [
       "True"
      ]
     },
     "metadata": {},
     "execution_count": 3
    }
   ],
   "metadata": {}
  },
  {
   "cell_type": "code",
   "execution_count": null,
   "source": [],
   "outputs": [],
   "metadata": {}
  }
 ],
 "metadata": {
  "kernelspec": {
   "display_name": "Python 3",
   "language": "python",
   "name": "python3"
  },
  "language_info": {
   "codemirror_mode": {
    "name": "ipython",
    "version": 3
   },
   "file_extension": ".py",
   "mimetype": "text/x-python",
   "name": "python",
   "nbconvert_exporter": "python",
   "pygments_lexer": "ipython3",
   "version": "3.6.9"
  }
 },
 "nbformat": 4,
 "nbformat_minor": 4
}