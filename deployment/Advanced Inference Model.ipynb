{
 "cells": [
  {
   "cell_type": "code",
   "execution_count": 1,
   "metadata": {},
   "outputs": [
    {
     "data": {
      "application/vnd.jupyter.widget-view+json": {
       "model_id": "e1f0a5e716c64c0c8e6335b05af7bb79",
       "version_major": 2,
       "version_minor": 0
      },
      "text/plain": [
       "Button(description='Start', icon='check', style=ButtonStyle(), tooltip='Click me')"
      ]
     },
     "metadata": {},
     "output_type": "display_data"
    },
    {
     "data": {
      "application/vnd.jupyter.widget-view+json": {
       "model_id": "8b94bd4dd466411682a8e2d73e2f654a",
       "version_major": 2,
       "version_minor": 0
      },
      "text/plain": [
       "Button(description='Stop', icon='stop', style=ButtonStyle(), tooltip='Click me')"
      ]
     },
     "metadata": {},
     "output_type": "display_data"
    },
    {
     "data": {
      "application/vnd.jupyter.widget-view+json": {
       "model_id": "e7619c758761466f90ccc6d85b7c491e",
       "version_major": 2,
       "version_minor": 0
      },
      "text/plain": [
       "Image(value=b'', format='jpeg')"
      ]
     },
     "metadata": {},
     "output_type": "display_data"
    }
   ],
   "source": [
    "import ipywidgets\n",
    "from IPython.display import display\n",
    "\n",
    "start_button = ipywidgets.Button(\n",
    "    description = 'Start',\n",
    "    disabled=False,\n",
    "    button_style='', # 'success', 'info', 'warning', 'danger' or ''\n",
    "    tooltip='Click me',\n",
    "    icon='check' # (FontAwesome names without the `fa-` prefix)\n",
    ")\n",
    "\n",
    "\n",
    "stop_button = ipywidgets.Button(\n",
    "    description = 'Stop',\n",
    "    disabled=False,\n",
    "    button_style='', # 'success', 'info', 'warning', 'danger' or ''\n",
    "    tooltip='Click me',\n",
    "    icon='stop' # (FontAwesome names without the `fa-` prefix)\n",
    ")\n",
    "\n",
    "\n",
    "\n",
    "image_widget = ipywidgets.Image(format='jpeg')\n",
    "\n",
    "display(start_button)\n",
    "display(stop_button)\n",
    "display(image_widget)"
   ]
  },
  {
   "cell_type": "code",
   "execution_count": 2,
   "metadata": {},
   "outputs": [],
   "source": [
    "from Inference import Inference\n",
    "from Video import gstreamer_pipeline\n",
    "from jetcam.utils import bgr8_to_jpeg\n",
    "import cv2\n",
    "\n",
    "cfg = \"./cfg/yolov3-tiny.cfg\"\n",
    "data = \"./cfg/coco.data\"\n",
    "weights = \"./yolov3-tiny.weights\"\n",
    "\n",
    "cap = cv2.VideoCapture(gstreamer_pipeline(capture_width =320, capture_height=320, flip_method=0), cv2.CAP_GSTREAMER)\n",
    "if cap.isOpened():\n",
    "    _, image = cap.read()\n",
    "    cap.release()\n",
    "else:\n",
    "    print(\"Unable to open camera\")\n",
    "image_widget.value = bgr8_to_jpeg(image)\n",
    "\n",
    "cap = cv2.VideoCapture(gstreamer_pipeline(capture_width =320, capture_height=320, flip_method=0), cv2.CAP_GSTREAMER)\n",
    "inf = Inference(cap, image_widget, cfg, data, weights)\n",
    "\n",
    "\n",
    "\n",
    "start_button.on_click(inf.startInference)\n",
    "stop_button.on_click(inf.stopInference)"
   ]
  },
  {
   "cell_type": "code",
   "execution_count": 3,
   "metadata": {},
   "outputs": [
    {
     "data": {
      "text/plain": [
       "True"
      ]
     },
     "execution_count": 3,
     "metadata": {},
     "output_type": "execute_result"
    }
   ],
   "source": [
    "cap.isOpened()"
   ]
  },
  {
   "cell_type": "code",
   "execution_count": null,
   "metadata": {},
   "outputs": [],
   "source": []
  }
 ],
 "metadata": {
  "kernelspec": {
   "display_name": "Python 3",
   "language": "python",
   "name": "python3"
  },
  "language_info": {
   "codemirror_mode": {
    "name": "ipython",
    "version": 3
   },
   "file_extension": ".py",
   "mimetype": "text/x-python",
   "name": "python",
   "nbconvert_exporter": "python",
   "pygments_lexer": "ipython3",
   "version": "3.6.9"
  }
 },
 "nbformat": 4,
 "nbformat_minor": 4
}
